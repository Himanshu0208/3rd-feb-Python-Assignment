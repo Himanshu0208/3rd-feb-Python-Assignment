{
 "cells": [
  {
   "cell_type": "markdown",
   "id": "dca4a7e3-6ec2-43b9-a28e-7c7a537a4877",
   "metadata": {},
   "source": [
    "# Ques 1\n",
    "def keyword is used to define a function"
   ]
  },
  {
   "cell_type": "code",
   "execution_count": 2,
   "id": "96f64b9a-3a1e-4a7c-8049-77070060c5e5",
   "metadata": {},
   "outputs": [],
   "source": [
    "def odd():\n",
    "    return list(range(1,25,2))"
   ]
  },
  {
   "cell_type": "code",
   "execution_count": 3,
   "id": "cbe8c846-827c-4b28-acfe-998ec3b061ab",
   "metadata": {},
   "outputs": [
    {
     "name": "stdout",
     "output_type": "stream",
     "text": [
      "[1, 3, 5, 7, 9, 11, 13, 15, 17, 19, 21, 23]\n"
     ]
    }
   ],
   "source": [
    "l = odd()\n",
    "print(l)"
   ]
  },
  {
   "cell_type": "markdown",
   "id": "46943551-91c8-4475-9a78-e50ec0532b27",
   "metadata": {},
   "source": [
    "# Ques 2\n",
    "1. *args is used to give n number of elements, it return as tuple\n",
    "2. **kwargs is used to give n number of elements in key value pair form, It returns as dict"
   ]
  },
  {
   "cell_type": "code",
   "execution_count": 11,
   "id": "5ff037cd-95f1-4757-8a96-5a959ac56eb1",
   "metadata": {},
   "outputs": [],
   "source": [
    "def ques2a(*args):\n",
    "    '''This function will take n numbers as input and return their sum'''\n",
    "    ans = 0\n",
    "    for i in args:\n",
    "        ans += i\n",
    "    return ans\n",
    "\n",
    "def ques2b(**kwargs):\n",
    "    '''This function will return the inputed values in a key value pair form'''\n",
    "    return kwargs"
   ]
  },
  {
   "cell_type": "code",
   "execution_count": 12,
   "id": "44175464-be54-448e-a300-c226a8b47ec5",
   "metadata": {},
   "outputs": [
    {
     "name": "stdout",
     "output_type": "stream",
     "text": [
      "15\n",
      "{'a': 1, 'b': True, 'c': 'Himanshu'}\n"
     ]
    }
   ],
   "source": [
    "ans1 = ques2a(1,2,3,4,5)\n",
    "ans2 = ques2b(a = 1, b = True , c = 'Himanshu')\n",
    "print(ans1)\n",
    "print(ans2)"
   ]
  },
  {
   "cell_type": "markdown",
   "id": "42a80256-66c9-4163-8fe8-0bc1b33a7602",
   "metadata": {},
   "source": [
    "# Ques 3\n",
    "An iterator is an object that contains a countable number of values. An iterator is an object that can be iterated upon, meaning that you can traverse through all the values.\n",
    "1. Method for crating iterator is = iter()\n",
    "2. Method for crating iterating is = next()"
   ]
  },
  {
   "cell_type": "code",
   "execution_count": 13,
   "id": "b473c009-7771-4b63-b8f5-1f7d2c47f77a",
   "metadata": {},
   "outputs": [
    {
     "name": "stdout",
     "output_type": "stream",
     "text": [
      "<list_iterator object at 0x7ff27c02d600>\n",
      "2\n",
      "4\n",
      "6\n",
      "8\n",
      "10\n"
     ]
    }
   ],
   "source": [
    "l1 = [2, 4, 6, 8, 10, 12, 14, 16, 18, 20]\n",
    "count = 0\n",
    "a = iter(l1)\n",
    "print(a)\n",
    "\n",
    "while count < 5:\n",
    "    print(next(a))\n",
    "    count += 1\n",
    "    "
   ]
  },
  {
   "cell_type": "markdown",
   "id": "8b248e56-1f3b-4aba-811d-9f10eb8b31b9",
   "metadata": {},
   "source": [
    "# Ques 4\n",
    "1. Genrator function is a function which gives n values one by one at a time, Hence used to save memmory in creating a list of those n numbers and then returning it\n",
    "2. yeild keyword is used to output the current element and then continue the process to genrate more values, if end ing condition is not reached yet"
   ]
  },
  {
   "cell_type": "code",
   "execution_count": 14,
   "id": "77d60b0c-6fb2-4005-a294-b1ae679cc54a",
   "metadata": {},
   "outputs": [],
   "source": [
    "def square(n):\n",
    "    '''This function takes n as input and then return the square of 1 to n'''\n",
    "    for i in range(1,n+1):\n",
    "        yield i ** 2"
   ]
  },
  {
   "cell_type": "code",
   "execution_count": 17,
   "id": "54494286-face-4c2f-afe7-2de9c1e6e5ec",
   "metadata": {},
   "outputs": [
    {
     "name": "stdin",
     "output_type": "stream",
     "text": [
      "Enter the upper limit 10\n"
     ]
    },
    {
     "name": "stdout",
     "output_type": "stream",
     "text": [
      "1\n",
      "4\n",
      "9\n",
      "16\n",
      "25\n",
      "36\n",
      "49\n",
      "64\n",
      "81\n",
      "100\n"
     ]
    }
   ],
   "source": [
    "n = int(input('Enter the upper limit'))\n",
    "\n",
    "for i in square(n):\n",
    "    print(i)"
   ]
  },
  {
   "cell_type": "markdown",
   "id": "3a959e4e-6d67-4f3a-a29c-fa4669f333d0",
   "metadata": {},
   "source": [
    "# Ques 5"
   ]
  },
  {
   "cell_type": "code",
   "execution_count": 19,
   "id": "c53dd38e-616e-4f09-a2c1-54fe1b8090cd",
   "metadata": {},
   "outputs": [],
   "source": [
    "from sympy import isprime\n",
    "def genratePrime():\n",
    "    for i in range(100):\n",
    "        if isprime(i):\n",
    "            yield i"
   ]
  },
  {
   "cell_type": "code",
   "execution_count": 21,
   "id": "32d94f61-8d89-4008-a70b-d653146b7d72",
   "metadata": {},
   "outputs": [
    {
     "name": "stdout",
     "output_type": "stream",
     "text": [
      "first 20 prime numbers are\n",
      "2  3  5  7  11  13  17  19  23  29  31  37  41  43  47  53  59  61  67  71  "
     ]
    }
   ],
   "source": [
    "print('first 20 prime numbers are')\n",
    "\n",
    "count = 0\n",
    "for i in genratePrime():\n",
    "    print(i , end=\"  \")\n",
    "    count += 1\n",
    "    if count == 20 :\n",
    "        break"
   ]
  },
  {
   "cell_type": "markdown",
   "id": "42c075c6-992f-4cc2-95b1-aba66d1852b1",
   "metadata": {},
   "source": [
    "# Ques 6"
   ]
  },
  {
   "cell_type": "code",
   "execution_count": 25,
   "id": "ae69b7f3-e009-4636-b229-0a0652a5ce72",
   "metadata": {},
   "outputs": [],
   "source": [
    "def fib(n):\n",
    "    a , b = 0 , 1\n",
    "    i = 1\n",
    "    while i <= n:\n",
    "        yield a\n",
    "        a , b = b , a + b\n",
    "        i += 1"
   ]
  },
  {
   "cell_type": "code",
   "execution_count": 27,
   "id": "00274ea9-5f3d-44c0-b0b5-8da9d11b4e95",
   "metadata": {},
   "outputs": [
    {
     "name": "stdin",
     "output_type": "stream",
     "text": [
      "Enter The number of series you want 10\n"
     ]
    },
    {
     "name": "stdout",
     "output_type": "stream",
     "text": [
      "The fibonacci series of first 10 elemnts are\n",
      "0\n",
      "1\n",
      "1\n",
      "2\n",
      "3\n",
      "5\n",
      "8\n",
      "13\n",
      "21\n",
      "34\n"
     ]
    }
   ],
   "source": [
    "n = int(input('Enter The number of series you want'))\n",
    "print('The fibonacci series of first' , n , 'elemnts are')\n",
    "\n",
    "a = fib(n)\n",
    "i = 0\n",
    "while i < n :\n",
    "    print(next(a))\n",
    "    i += 1"
   ]
  },
  {
   "cell_type": "markdown",
   "id": "dd2ed7d9-e847-4721-a9df-27ef6cc95297",
   "metadata": {},
   "source": [
    "# Ques 7"
   ]
  },
  {
   "cell_type": "code",
   "execution_count": 29,
   "id": "94f96638-5490-41f4-93d4-2fa6cd955686",
   "metadata": {},
   "outputs": [
    {
     "name": "stdin",
     "output_type": "stream",
     "text": [
      "Enter the input string pwskills\n"
     ]
    },
    {
     "name": "stdout",
     "output_type": "stream",
     "text": [
      "List comprehension of string \"pwskills\" is = ['p', 'w', 's', 'k', 'i', 'l', 'l', 's']\n"
     ]
    }
   ],
   "source": [
    "s = input('Enter the input string')\n",
    "l = [i for i in s]\n",
    "print('List comprehension of string \"'+ s +'\" is = ' , end=\"\")\n",
    "print(l)"
   ]
  },
  {
   "cell_type": "markdown",
   "id": "f8ff519b-de9e-4539-840b-02da154418c5",
   "metadata": {},
   "source": [
    "# Ques 8"
   ]
  },
  {
   "cell_type": "code",
   "execution_count": 4,
   "id": "5d418220-fca6-4409-a687-705fbcc33d1c",
   "metadata": {},
   "outputs": [
    {
     "name": "stdin",
     "output_type": "stream",
     "text": [
      "Enter the number which you want to check whether its palingdrome or not 12321\n"
     ]
    },
    {
     "name": "stdout",
     "output_type": "stream",
     "text": [
      "The number  12321 is palingdrome\n"
     ]
    }
   ],
   "source": [
    "n = int(input('Enter the number which you want to check whether its palingdrome or not'))\n",
    "s = str(n)\n",
    "length = len(s)\n",
    "count = 0\n",
    "flag = True\n",
    "\n",
    "while count < length/2 :\n",
    "    if s[count] != s[length - 1 - count]:\n",
    "        flag = False\n",
    "        break\n",
    "    count += 1\n",
    "\n",
    "if flag :\n",
    "    print('The number ' , n , 'is palingdrome')\n",
    "else :\n",
    "    print('The number ' , n , 'is not palingdrome')"
   ]
  },
  {
   "cell_type": "markdown",
   "id": "a86aa783-e9d7-42bb-930c-445b5f2bc764",
   "metadata": {},
   "source": [
    "# Ques 9"
   ]
  },
  {
   "cell_type": "code",
   "execution_count": 9,
   "id": "11231e46-5be2-49f0-a99a-56c33d6b0d86",
   "metadata": {},
   "outputs": [
    {
     "name": "stdin",
     "output_type": "stream",
     "text": [
      "Enter the number upto which you wan to find the odd number 100\n"
     ]
    },
    {
     "name": "stdout",
     "output_type": "stream",
     "text": [
      "The odd number from 1 to 100 are = [1, 3, 5, 7, 9, 11, 13, 15, 17, 19, 21, 23, 25, 27, 29, 31, 33, 35, 37, 39, 41, 43, 45, 47, 49, 51, 53, 55, 57, 59, 61, 63, 65, 67, 69, 71, 73, 75, 77, 79, 81, 83, 85, 87, 89, 91, 93, 95, 97, 99]\n"
     ]
    }
   ],
   "source": [
    "n = int(input('Enter the number upto which you wan to find the odd number'))\n",
    "\n",
    "l = [i for i in range(1,n+1)]\n",
    "ans = [i for i in l if i % 2 != 0 ]\n",
    "print('The odd number from 1 to',n,'are =',ans)"
   ]
  }
 ],
 "metadata": {
  "kernelspec": {
   "display_name": "Python 3 (ipykernel)",
   "language": "python",
   "name": "python3"
  },
  "language_info": {
   "codemirror_mode": {
    "name": "ipython",
    "version": 3
   },
   "file_extension": ".py",
   "mimetype": "text/x-python",
   "name": "python",
   "nbconvert_exporter": "python",
   "pygments_lexer": "ipython3",
   "version": "3.10.8"
  }
 },
 "nbformat": 4,
 "nbformat_minor": 5
}
